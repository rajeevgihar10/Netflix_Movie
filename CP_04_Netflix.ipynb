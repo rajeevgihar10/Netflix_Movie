{
 "cells": [
  {
   "cell_type": "markdown",
   "id": "fba25746",
   "metadata": {},
   "source": [
    "Rajeev Kumar_CH22M026"
   ]
  },
  {
   "cell_type": "markdown",
   "id": "b5919f98",
   "metadata": {},
   "source": [
    "# Problem Statement:"
   ]
  },
  {
   "cell_type": "markdown",
   "id": "30ccec98",
   "metadata": {},
   "source": [
    "Customer Behaviour and it’s prediction lies at the core of every Business Model. From Stock Exchange, e-Commerce and\n",
    "Automobile to even Presidential Elections, predictions serve a great purpose. Most of these predictions are based on the data\n",
    "available about a person’s activity either online or in-person.\n",
    "Recommendation Engines are the much\n",
    "needed manifestations of the desired\n",
    "Predictability of User Activity.\n",
    "Recommendation Engines move one step\n",
    "further and not only give information but\n",
    "put forth strategies to further increase users\n",
    "interaction with the platform. In today’s world OTT platform and Streaming\n",
    "Services have taken up a big chunk in the\n",
    "Retail and Entertainment industry.\n",
    "Organizations like Netflix, Amazon etc.\n",
    "analyse User Activity Pattern’s and suggest\n",
    "products that better suit the user needs and\n",
    "choices. For the purpose of this Project we will be\n",
    "creating one such Recommendation Engine\n",
    "from the ground-up, where every single user,\n",
    "based on there area of interest and ratings,\n",
    "would be recommended a list of movies that\n",
    "are best suited for them."
   ]
  },
  {
   "cell_type": "markdown",
   "id": "1f066375",
   "metadata": {},
   "source": [
    "# Dataset Information:"
   ]
  },
  {
   "cell_type": "markdown",
   "id": "987945b7",
   "metadata": {},
   "source": [
    "1. ID – Contains the separate keys for\n",
    "customer and movies.\n",
    "\n",
    "2. Rating – A section contains the user\n",
    "ratings for all the movies.\n",
    "\n",
    "3. Genre – Highlights the category of the\n",
    "movie.\n",
    "\n",
    "4. Movie Name – Name of the movie with\n",
    "respect to the movie id."
   ]
  },
  {
   "cell_type": "markdown",
   "id": "83d4d1dd",
   "metadata": {},
   "source": [
    "# Objective:"
   ]
  },
  {
   "cell_type": "markdown",
   "id": "02d4ff2a",
   "metadata": {},
   "source": [
    "1. Find out the list of most popular and liked genre.\n",
    "\n",
    "2. Create Model that finds the best suited Movie for one\n",
    "user in every genre.\n",
    "\n",
    "3. Find what Genre Movies have received the best and\n",
    "worst ratings based on User Rating."
   ]
  },
  {
   "cell_type": "markdown",
   "id": "be90424d",
   "metadata": {},
   "source": [
    "# Importing the Dependencies"
   ]
  },
  {
   "cell_type": "code",
   "execution_count": 1,
   "id": "9d0fbdc0",
   "metadata": {},
   "outputs": [],
   "source": [
    "import numpy as np\n",
    "import pandas as pd\n",
    "import matplotlib.pyplot as plt\n",
    "\n",
    "import warnings\n",
    "warnings.filterwarnings('ignore')\n",
    "%matplotlib inline"
   ]
  },
  {
   "cell_type": "code",
   "execution_count": 8,
   "id": "87f43e53",
   "metadata": {},
   "outputs": [
    {
     "name": "stdout",
     "output_type": "stream",
     "text": [
      "File content:\n",
      "1:\n",
      "1488844,3,2005-09-06\n",
      "822109,5,2005-05-13\n",
      "885013,4,2005-10-19\n",
      "30878,4,2005-12-26\n",
      "823519,3,2004-05-03\n",
      "893988,3,2005-11-17\n",
      "124105,4,2004-08-05\n",
      "1248029,3,2004-04-22\n",
      "1842128,4,2004-05-09\n"
     ]
    }
   ],
   "source": [
    "# def read_file(file_path):\n",
    "#     try:\n",
    "#         with open(file_path, 'r') as file:\n",
    "#             content = file.readlines()\n",
    "#         return content\n",
    "#     except FileNotFoundError:\n",
    "#         print(f\"File '{file_path}' not found.\")\n",
    "#         return None\n",
    "#     except IOError:\n",
    "#         print(f\"Error reading file '{file_path}'.\")\n",
    "#         return None\n",
    "\n",
    "# # Example usage\n",
    "# file_path = r'C:\\Users\\rajee\\Desktop\\DS\\Int\\CP\\combined_data_1.txt'\n",
    "# file_content = read_file(file_path)\n",
    "\n",
    "# if file_content:\n",
    "#     print(\"File content:\")\n",
    "#     for line in file_content[:10]:\n",
    "#         print(line.strip())"
   ]
  },
  {
   "cell_type": "code",
   "execution_count": 2,
   "id": "d9b71749",
   "metadata": {},
   "outputs": [
    {
     "data": {
      "text/html": [
       "<div>\n",
       "<style scoped>\n",
       "    .dataframe tbody tr th:only-of-type {\n",
       "        vertical-align: middle;\n",
       "    }\n",
       "\n",
       "    .dataframe tbody tr th {\n",
       "        vertical-align: top;\n",
       "    }\n",
       "\n",
       "    .dataframe thead th {\n",
       "        text-align: right;\n",
       "    }\n",
       "</style>\n",
       "<table border=\"1\" class=\"dataframe\">\n",
       "  <thead>\n",
       "    <tr style=\"text-align: right;\">\n",
       "      <th></th>\n",
       "      <th>Cust_Id</th>\n",
       "      <th>Rating</th>\n",
       "      <th>Movie_Id</th>\n",
       "      <th>Genre</th>\n",
       "      <th>MovieName</th>\n",
       "    </tr>\n",
       "  </thead>\n",
       "  <tbody>\n",
       "    <tr>\n",
       "      <th>0</th>\n",
       "      <td>1488844</td>\n",
       "      <td>3</td>\n",
       "      <td>1</td>\n",
       "      <td>Action</td>\n",
       "      <td>Dinosaur Planet</td>\n",
       "    </tr>\n",
       "    <tr>\n",
       "      <th>1</th>\n",
       "      <td>822109</td>\n",
       "      <td>5</td>\n",
       "      <td>1</td>\n",
       "      <td>Action</td>\n",
       "      <td>Dinosaur Planet</td>\n",
       "    </tr>\n",
       "    <tr>\n",
       "      <th>2</th>\n",
       "      <td>885013</td>\n",
       "      <td>4</td>\n",
       "      <td>1</td>\n",
       "      <td>Action</td>\n",
       "      <td>Dinosaur Planet</td>\n",
       "    </tr>\n",
       "    <tr>\n",
       "      <th>3</th>\n",
       "      <td>30878</td>\n",
       "      <td>4</td>\n",
       "      <td>1</td>\n",
       "      <td>Action</td>\n",
       "      <td>Dinosaur Planet</td>\n",
       "    </tr>\n",
       "    <tr>\n",
       "      <th>4</th>\n",
       "      <td>823519</td>\n",
       "      <td>3</td>\n",
       "      <td>1</td>\n",
       "      <td>Action</td>\n",
       "      <td>Dinosaur Planet</td>\n",
       "    </tr>\n",
       "  </tbody>\n",
       "</table>\n",
       "</div>"
      ],
      "text/plain": [
       "   Cust_Id  Rating  Movie_Id   Genre        MovieName\n",
       "0  1488844       3         1  Action  Dinosaur Planet\n",
       "1   822109       5         1  Action  Dinosaur Planet\n",
       "2   885013       4         1  Action  Dinosaur Planet\n",
       "3    30878       4         1  Action  Dinosaur Planet\n",
       "4   823519       3         1  Action  Dinosaur Planet"
      ]
     },
     "execution_count": 2,
     "metadata": {},
     "output_type": "execute_result"
    }
   ],
   "source": [
    "dataset = pd.read_csv(\"C:\\\\Users\\\\rajee\\\\Desktop\\\\DS\\\\Int\\\\CP\\\\Dataset_CP\\\\Netflix.csv\")\n",
    "dataset.head()"
   ]
  },
  {
   "cell_type": "code",
   "execution_count": 3,
   "id": "65228c17",
   "metadata": {},
   "outputs": [
    {
     "data": {
      "text/plain": [
       "0          3.0\n",
       "1          5.0\n",
       "2          4.0\n",
       "3          4.0\n",
       "4          3.0\n",
       "          ... \n",
       "1048569    4.0\n",
       "1048570    3.0\n",
       "1048571    5.0\n",
       "1048572    3.0\n",
       "1048573    4.0\n",
       "Name: Rating, Length: 1048574, dtype: float64"
      ]
     },
     "execution_count": 3,
     "metadata": {},
     "output_type": "execute_result"
    }
   ],
   "source": [
    "# Convert Ratings column to a float\n",
    "dataset['Rating'] = pd.DataFrame(dataset['Rating'].astype(float))\n",
    "dataset['Rating']"
   ]
  },
  {
   "cell_type": "code",
   "execution_count": 4,
   "id": "4a53c210",
   "metadata": {},
   "outputs": [
    {
     "name": "stdout",
     "output_type": "stream",
     "text": [
      "Cust_Id        int64\n",
      "Rating       float64\n",
      "Movie_Id       int64\n",
      "Genre         object\n",
      "MovieName     object\n",
      "dtype: object\n"
     ]
    }
   ],
   "source": [
    "# Check the data types of each column\n",
    "print(dataset.dtypes)"
   ]
  },
  {
   "cell_type": "code",
   "execution_count": 5,
   "id": "eb42cd0f",
   "metadata": {},
   "outputs": [
    {
     "data": {
      "text/plain": [
       "(1048574, 5)"
      ]
     },
     "execution_count": 5,
     "metadata": {},
     "output_type": "execute_result"
    }
   ],
   "source": [
    "dataset.shape"
   ]
  },
  {
   "cell_type": "code",
   "execution_count": 6,
   "id": "62adf9ec",
   "metadata": {},
   "outputs": [
    {
     "name": "stdout",
     "output_type": "stream",
     "text": [
      "<class 'pandas.core.frame.DataFrame'>\n",
      "RangeIndex: 1048574 entries, 0 to 1048573\n",
      "Data columns (total 5 columns):\n",
      " #   Column     Non-Null Count    Dtype  \n",
      "---  ------     --------------    -----  \n",
      " 0   Cust_Id    1048574 non-null  int64  \n",
      " 1   Rating     1048574 non-null  float64\n",
      " 2   Movie_Id   1048574 non-null  int64  \n",
      " 3   Genre      1047488 non-null  object \n",
      " 4   MovieName  1048574 non-null  object \n",
      "dtypes: float64(1), int64(2), object(2)\n",
      "memory usage: 40.0+ MB\n"
     ]
    }
   ],
   "source": [
    "dataset.info()"
   ]
  },
  {
   "cell_type": "code",
   "execution_count": 7,
   "id": "98139dd3",
   "metadata": {},
   "outputs": [
    {
     "data": {
      "text/html": [
       "<div>\n",
       "<style scoped>\n",
       "    .dataframe tbody tr th:only-of-type {\n",
       "        vertical-align: middle;\n",
       "    }\n",
       "\n",
       "    .dataframe tbody tr th {\n",
       "        vertical-align: top;\n",
       "    }\n",
       "\n",
       "    .dataframe thead th {\n",
       "        text-align: right;\n",
       "    }\n",
       "</style>\n",
       "<table border=\"1\" class=\"dataframe\">\n",
       "  <thead>\n",
       "    <tr style=\"text-align: right;\">\n",
       "      <th></th>\n",
       "      <th>Cust_Id</th>\n",
       "      <th>Rating</th>\n",
       "      <th>Movie_Id</th>\n",
       "    </tr>\n",
       "  </thead>\n",
       "  <tbody>\n",
       "    <tr>\n",
       "      <th>count</th>\n",
       "      <td>1.048574e+06</td>\n",
       "      <td>1.048574e+06</td>\n",
       "      <td>1.048574e+06</td>\n",
       "    </tr>\n",
       "    <tr>\n",
       "      <th>mean</th>\n",
       "      <td>1.322763e+06</td>\n",
       "      <td>3.637297e+00</td>\n",
       "      <td>1.320276e+02</td>\n",
       "    </tr>\n",
       "    <tr>\n",
       "      <th>std</th>\n",
       "      <td>7.646631e+05</td>\n",
       "      <td>1.072757e+00</td>\n",
       "      <td>7.156683e+01</td>\n",
       "    </tr>\n",
       "    <tr>\n",
       "      <th>min</th>\n",
       "      <td>6.000000e+00</td>\n",
       "      <td>1.000000e+00</td>\n",
       "      <td>1.000000e+00</td>\n",
       "    </tr>\n",
       "    <tr>\n",
       "      <th>25%</th>\n",
       "      <td>6.609370e+05</td>\n",
       "      <td>3.000000e+00</td>\n",
       "      <td>5.700000e+01</td>\n",
       "    </tr>\n",
       "    <tr>\n",
       "      <th>50%</th>\n",
       "      <td>1.318946e+06</td>\n",
       "      <td>4.000000e+00</td>\n",
       "      <td>1.520000e+02</td>\n",
       "    </tr>\n",
       "    <tr>\n",
       "      <th>75%</th>\n",
       "      <td>1.985225e+06</td>\n",
       "      <td>4.000000e+00</td>\n",
       "      <td>1.910000e+02</td>\n",
       "    </tr>\n",
       "    <tr>\n",
       "      <th>max</th>\n",
       "      <td>2.649429e+06</td>\n",
       "      <td>5.000000e+00</td>\n",
       "      <td>2.410000e+02</td>\n",
       "    </tr>\n",
       "  </tbody>\n",
       "</table>\n",
       "</div>"
      ],
      "text/plain": [
       "            Cust_Id        Rating      Movie_Id\n",
       "count  1.048574e+06  1.048574e+06  1.048574e+06\n",
       "mean   1.322763e+06  3.637297e+00  1.320276e+02\n",
       "std    7.646631e+05  1.072757e+00  7.156683e+01\n",
       "min    6.000000e+00  1.000000e+00  1.000000e+00\n",
       "25%    6.609370e+05  3.000000e+00  5.700000e+01\n",
       "50%    1.318946e+06  4.000000e+00  1.520000e+02\n",
       "75%    1.985225e+06  4.000000e+00  1.910000e+02\n",
       "max    2.649429e+06  5.000000e+00  2.410000e+02"
      ]
     },
     "execution_count": 7,
     "metadata": {},
     "output_type": "execute_result"
    }
   ],
   "source": [
    "## Desrciptive summary of the dataset\n",
    "dataset.describe()"
   ]
  },
  {
   "cell_type": "code",
   "execution_count": 8,
   "id": "3ed197a3",
   "metadata": {},
   "outputs": [
    {
     "data": {
      "text/plain": [
       "Index(['Cust_Id', 'Rating', 'Movie_Id', 'Genre', 'MovieName'], dtype='object')"
      ]
     },
     "execution_count": 8,
     "metadata": {},
     "output_type": "execute_result"
    }
   ],
   "source": [
    "# List down all the column names\n",
    "dataset.columns"
   ]
  },
  {
   "cell_type": "code",
   "execution_count": 9,
   "id": "a1bc855b",
   "metadata": {},
   "outputs": [
    {
     "name": "stdout",
     "output_type": "stream",
     "text": [
      "Cust_Id         0\n",
      "Rating          0\n",
      "Movie_Id        0\n",
      "Genre        1086\n",
      "MovieName       0\n",
      "dtype: int64\n"
     ]
    }
   ],
   "source": [
    "# Check for missing values\n",
    "print(dataset.isnull().sum())"
   ]
  },
  {
   "cell_type": "code",
   "execution_count": 10,
   "id": "a428332a",
   "metadata": {},
   "outputs": [],
   "source": [
    "# Fill missing values with the mode\n",
    "dataset['Genre'].fillna(dataset['Genre'].mode()[0], inplace=True)"
   ]
  },
  {
   "cell_type": "code",
   "execution_count": 11,
   "id": "fc2ace3a",
   "metadata": {},
   "outputs": [],
   "source": [
    "# # Fill missing values with a specific category label\n",
    "# dataset['Genre'].fillna('Unknown', inplace=True)"
   ]
  },
  {
   "cell_type": "code",
   "execution_count": 12,
   "id": "9e9deabc",
   "metadata": {},
   "outputs": [
    {
     "name": "stdout",
     "output_type": "stream",
     "text": [
      "Cust_Id      0\n",
      "Rating       0\n",
      "Movie_Id     0\n",
      "Genre        0\n",
      "MovieName    0\n",
      "dtype: int64\n"
     ]
    }
   ],
   "source": [
    "# Check for missing values\n",
    "print(dataset.isnull().sum())"
   ]
  },
  {
   "cell_type": "code",
   "execution_count": 13,
   "id": "e0b9ee65",
   "metadata": {},
   "outputs": [
    {
     "data": {
      "text/plain": [
       "0          Action\n",
       "1          Action\n",
       "2          Action\n",
       "3          Action\n",
       "4          Action\n",
       "            ...  \n",
       "1048569    Horror\n",
       "1048570    Horror\n",
       "1048571    Horror\n",
       "1048572    Horror\n",
       "1048573    Horror\n",
       "Name: Genre, Length: 1048574, dtype: object"
      ]
     },
     "execution_count": 13,
     "metadata": {},
     "output_type": "execute_result"
    }
   ],
   "source": [
    "# Using indexing operator []\n",
    "genre_column = dataset['Genre']\n",
    "genre_column"
   ]
  },
  {
   "cell_type": "code",
   "execution_count": 14,
   "id": "63faf884",
   "metadata": {},
   "outputs": [],
   "source": [
    "# # Using loc accessor\n",
    "# genre_column = dataset.loc[:, 'Genre']\n",
    "# genre_column"
   ]
  },
  {
   "cell_type": "code",
   "execution_count": 15,
   "id": "47205496",
   "metadata": {},
   "outputs": [],
   "source": [
    "# # Using iloc accessor (if 'Genre' is the n-th column)\n",
    "# n = 3  # Replace 'n' with the index of the 'Genre' column (starting from 0)\n",
    "# genre_column = dataset.iloc[:, n]\n",
    "# genre_column"
   ]
  },
  {
   "cell_type": "code",
   "execution_count": 16,
   "id": "a4cf0c9d",
   "metadata": {},
   "outputs": [
    {
     "data": {
      "text/plain": [
       "<AxesSubplot:>"
      ]
     },
     "execution_count": 16,
     "metadata": {},
     "output_type": "execute_result"
    },
    {
     "data": {
      "image/png": "[encoded data removed]",
      "text/plain": [
       "<Figure size 1000x600 with 2 Axes>"
      ]
     },
     "metadata": {},
     "output_type": "display_data"
    }
   ],
   "source": [
    "import matplotlib.pyplot as plt\n",
    "plt.figure(figsize=(10,6))\n",
    "import seaborn as sns\n",
    "sns.heatmap(dataset.corr(),annot=True)"
   ]
  },
  {
   "cell_type": "markdown",
   "id": "07a296a0",
   "metadata": {},
   "source": [
    "# Handling the outliers"
   ]
  },
  {
   "cell_type": "code",
   "execution_count": 17,
   "id": "3a55390e",
   "metadata": {},
   "outputs": [
    {
     "data": {
      "text/plain": [
       "['Cust_Id', 'Rating', 'Movie_Id', 'Genre', 'MovieName']"
      ]
     },
     "execution_count": 17,
     "metadata": {},
     "output_type": "execute_result"
    }
   ],
   "source": [
    "# Take all columns into a single column \"col\"\n",
    "col = list(dataset.columns)\n",
    "col"
   ]
  },
  {
   "cell_type": "code",
   "execution_count": 18,
   "id": "71c1dd96",
   "metadata": {},
   "outputs": [
    {
     "data": {
      "image/png": "[encoded data removed]",
      "text/plain": [
       "<Figure size 640x480 with 1 Axes>"
      ]
     },
     "metadata": {},
     "output_type": "display_data"
    },
    {
     "data": {
      "image/png": "[encoded data removed]",
      "text/plain": [
       "<Figure size 640x480 with 1 Axes>"
      ]
     },
     "metadata": {},
     "output_type": "display_data"
    },
    {
     "data": {
      "image/png": "[encoded data removed]",
      "text/plain": [
       "<Figure size 640x480 with 1 Axes>"
      ]
     },
     "metadata": {},
     "output_type": "display_data"
    }
   ],
   "source": [
    "for col_name in col:\n",
    "    if(dataset[col_name].dtypes == 'int64' or dataset[col_name].dtypes== 'float64'):\n",
    "        plt.boxplot(dataset[col_name])\n",
    "        plt.xlabel(col_name)\n",
    "        plt.ylabel('count')\n",
    "        plt.show()"
   ]
  },
  {
   "cell_type": "markdown",
   "id": "36da41b9",
   "metadata": {},
   "source": [
    "# 1. Find out the list of most popular and liked genre"
   ]
  },
  {
   "cell_type": "code",
   "execution_count": 19,
   "id": "09c26b95",
   "metadata": {},
   "outputs": [],
   "source": [
    "# Group the dataset by genre and calculate the average rating for each genre\n",
    "genre_ratings = dataset.groupby('Genre')['Rating'].mean().sort_values(ascending=False)"
   ]
  },
  {
   "cell_type": "code",
   "execution_count": 20,
   "id": "64e51faa",
   "metadata": {},
   "outputs": [
    {
     "name": "stdout",
     "output_type": "stream",
     "text": [
      "Genre\n",
      "Horror         4.123181\n",
      "Educational    3.898523\n",
      "Historical     3.818009\n",
      "Action         3.749543\n",
      "Crime          3.728872\n",
      "Gang           3.680611\n",
      "Animation      3.581107\n",
      "Comedy         3.558621\n",
      "Other          3.551541\n",
      "Drama          3.496365\n",
      "Sci-Fi         3.477920\n",
      "Fan            3.465356\n",
      "Biography      3.463439\n",
      "Mystery        3.390731\n",
      "RomCom         3.383633\n",
      "Documentary    3.311661\n",
      "War            3.288243\n",
      "Fiction        3.084396\n",
      "Thriller       3.073112\n",
      "Romance        2.739437\n",
      "Name: Rating, dtype: float64\n"
     ]
    }
   ],
   "source": [
    "# Print the list of most popular and liked genres\n",
    "print(genre_ratings)"
   ]
  },
  {
   "cell_type": "markdown",
   "id": "0f881fe1",
   "metadata": {},
   "source": [
    "# I can gain some insights about the popularity and likability of different genres. Here are some observations:\n",
    "\n",
    "Horror movies have the highest average rating (4.123181), indicating that they are well-liked among the users in the dataset.\n",
    "\n",
    "Educational movies come in second place with a relatively high average rating (3.898523), suggesting that users appreciate movies in this genre.\n",
    "\n",
    "Historical movies also receive a decent average rating (3.818009), indicating that they are generally liked.\n",
    "\n",
    "Action, Crime, and Gang genres have above-average ratings (ranging from 3.680611 to 3.749543), suggesting a positive reception among users.\n",
    "\n",
    "Animation and Comedy genres have relatively good average ratings (3.581107 and 3.558621, respectively), indicating a favorable response from users.\n",
    "\n",
    "Drama, Sci-Fi, and Fan genres fall in the middle range of ratings (ranging from 3.465356 to 3.496365), implying they are moderately liked by users.\n",
    "\n",
    "Genres like Biography, Mystery, and RomCom also have average ratings above 3.4, indicating a reasonable level of appreciation.\n",
    "\n",
    "Documentary, War, Fiction, Thriller, and Romance genres have lower average ratings (ranging from 2.739437 to 3.311661), suggesting that they may be less popular or less enjoyed by users in the dataset.\n",
    "\n",
    "These insights can help you understand the relative popularity and likability of different genres based on the average ratings provided by the users in your dataset. It's important to note that these conclusions are specific to the dataset you are working with and may not necessarily reflect broader preferences or trends."
   ]
  },
  {
   "cell_type": "code",
   "execution_count": 21,
   "id": "fce22ab3",
   "metadata": {},
   "outputs": [
    {
     "data": {
      "image/png": "[encoded data removed]",
      "text/plain": [
       "<Figure size 1000x600 with 1 Axes>"
      ]
     },
     "metadata": {},
     "output_type": "display_data"
    }
   ],
   "source": [
    "import matplotlib.pyplot as plt\n",
    "\n",
    "# Create a bar plot of average ratings by genre\n",
    "plt.figure(figsize=(10, 6))\n",
    "plt.bar(genre_ratings.index, genre_ratings.values)\n",
    "plt.xlabel('Genre')\n",
    "plt.ylabel('Average Rating')\n",
    "plt.title('Average Ratings by Genre')\n",
    "plt.xticks(rotation=90)\n",
    "plt.tight_layout()\n",
    "plt.show()"
   ]
  },
  {
   "cell_type": "code",
   "execution_count": 22,
   "id": "504eac84",
   "metadata": {},
   "outputs": [],
   "source": [
    "f = ['count','mean']"
   ]
  },
  {
   "cell_type": "code",
   "execution_count": 23,
   "id": "9f010298",
   "metadata": {},
   "outputs": [
    {
     "data": {
      "text/html": [
       "<div>\n",
       "<style scoped>\n",
       "    .dataframe tbody tr th:only-of-type {\n",
       "        vertical-align: middle;\n",
       "    }\n",
       "\n",
       "    .dataframe tbody tr th {\n",
       "        vertical-align: top;\n",
       "    }\n",
       "\n",
       "    .dataframe thead tr th {\n",
       "        text-align: left;\n",
       "    }\n",
       "\n",
       "    .dataframe thead tr:last-of-type th {\n",
       "        text-align: right;\n",
       "    }\n",
       "</style>\n",
       "<table border=\"1\" class=\"dataframe\">\n",
       "  <thead>\n",
       "    <tr>\n",
       "      <th></th>\n",
       "      <th colspan=\"2\" halign=\"left\">Cust_Id</th>\n",
       "      <th colspan=\"2\" halign=\"left\">Rating</th>\n",
       "    </tr>\n",
       "    <tr>\n",
       "      <th></th>\n",
       "      <th>count</th>\n",
       "      <th>mean</th>\n",
       "      <th>count</th>\n",
       "      <th>mean</th>\n",
       "    </tr>\n",
       "    <tr>\n",
       "      <th>Movie_Id</th>\n",
       "      <th></th>\n",
       "      <th></th>\n",
       "      <th></th>\n",
       "      <th></th>\n",
       "    </tr>\n",
       "  </thead>\n",
       "  <tbody>\n",
       "    <tr>\n",
       "      <th>1</th>\n",
       "      <td>547</td>\n",
       "      <td>1.249876e+06</td>\n",
       "      <td>547</td>\n",
       "      <td>3.749543</td>\n",
       "    </tr>\n",
       "    <tr>\n",
       "      <th>2</th>\n",
       "      <td>145</td>\n",
       "      <td>1.341926e+06</td>\n",
       "      <td>145</td>\n",
       "      <td>3.558621</td>\n",
       "    </tr>\n",
       "    <tr>\n",
       "      <th>3</th>\n",
       "      <td>2012</td>\n",
       "      <td>1.324290e+06</td>\n",
       "      <td>2012</td>\n",
       "      <td>3.641153</td>\n",
       "    </tr>\n",
       "    <tr>\n",
       "      <th>4</th>\n",
       "      <td>142</td>\n",
       "      <td>1.402854e+06</td>\n",
       "      <td>142</td>\n",
       "      <td>2.739437</td>\n",
       "    </tr>\n",
       "    <tr>\n",
       "      <th>5</th>\n",
       "      <td>1140</td>\n",
       "      <td>1.302384e+06</td>\n",
       "      <td>1140</td>\n",
       "      <td>3.919298</td>\n",
       "    </tr>\n",
       "    <tr>\n",
       "      <th>...</th>\n",
       "      <td>...</td>\n",
       "      <td>...</td>\n",
       "      <td>...</td>\n",
       "      <td>...</td>\n",
       "    </tr>\n",
       "    <tr>\n",
       "      <th>237</th>\n",
       "      <td>348</td>\n",
       "      <td>1.272902e+06</td>\n",
       "      <td>348</td>\n",
       "      <td>3.399425</td>\n",
       "    </tr>\n",
       "    <tr>\n",
       "      <th>238</th>\n",
       "      <td>2335</td>\n",
       "      <td>1.328057e+06</td>\n",
       "      <td>2335</td>\n",
       "      <td>3.678373</td>\n",
       "    </tr>\n",
       "    <tr>\n",
       "      <th>239</th>\n",
       "      <td>2190</td>\n",
       "      <td>1.345288e+06</td>\n",
       "      <td>2190</td>\n",
       "      <td>3.768037</td>\n",
       "    </tr>\n",
       "    <tr>\n",
       "      <th>240</th>\n",
       "      <td>5184</td>\n",
       "      <td>1.332201e+06</td>\n",
       "      <td>5184</td>\n",
       "      <td>3.948495</td>\n",
       "    </tr>\n",
       "    <tr>\n",
       "      <th>241</th>\n",
       "      <td>29259</td>\n",
       "      <td>1.318257e+06</td>\n",
       "      <td>29259</td>\n",
       "      <td>4.156328</td>\n",
       "    </tr>\n",
       "  </tbody>\n",
       "</table>\n",
       "<p>241 rows × 4 columns</p>\n",
       "</div>"
      ],
      "text/plain": [
       "         Cust_Id               Rating          \n",
       "           count          mean  count      mean\n",
       "Movie_Id                                       \n",
       "1            547  1.249876e+06    547  3.749543\n",
       "2            145  1.341926e+06    145  3.558621\n",
       "3           2012  1.324290e+06   2012  3.641153\n",
       "4            142  1.402854e+06    142  2.739437\n",
       "5           1140  1.302384e+06   1140  3.919298\n",
       "...          ...           ...    ...       ...\n",
       "237          348  1.272902e+06    348  3.399425\n",
       "238         2335  1.328057e+06   2335  3.678373\n",
       "239         2190  1.345288e+06   2190  3.768037\n",
       "240         5184  1.332201e+06   5184  3.948495\n",
       "241        29259  1.318257e+06  29259  4.156328\n",
       "\n",
       "[241 rows x 4 columns]"
      ]
     },
     "execution_count": 23,
     "metadata": {},
     "output_type": "execute_result"
    }
   ],
   "source": [
    "dataset.groupby('Movie_Id').agg(f)"
   ]
  },
  {
   "cell_type": "code",
   "execution_count": 24,
   "id": "3c6e8f0d",
   "metadata": {},
   "outputs": [
    {
     "data": {
      "text/html": [
       "<div>\n",
       "<style scoped>\n",
       "    .dataframe tbody tr th:only-of-type {\n",
       "        vertical-align: middle;\n",
       "    }\n",
       "\n",
       "    .dataframe tbody tr th {\n",
       "        vertical-align: top;\n",
       "    }\n",
       "\n",
       "    .dataframe thead th {\n",
       "        text-align: right;\n",
       "    }\n",
       "</style>\n",
       "<table border=\"1\" class=\"dataframe\">\n",
       "  <thead>\n",
       "    <tr style=\"text-align: right;\">\n",
       "      <th></th>\n",
       "      <th>count</th>\n",
       "      <th>mean</th>\n",
       "    </tr>\n",
       "    <tr>\n",
       "      <th>Movie_Id</th>\n",
       "      <th></th>\n",
       "      <th></th>\n",
       "    </tr>\n",
       "  </thead>\n",
       "  <tbody>\n",
       "    <tr>\n",
       "      <th>1</th>\n",
       "      <td>547</td>\n",
       "      <td>3.749543</td>\n",
       "    </tr>\n",
       "    <tr>\n",
       "      <th>2</th>\n",
       "      <td>145</td>\n",
       "      <td>3.558621</td>\n",
       "    </tr>\n",
       "    <tr>\n",
       "      <th>3</th>\n",
       "      <td>2012</td>\n",
       "      <td>3.641153</td>\n",
       "    </tr>\n",
       "    <tr>\n",
       "      <th>4</th>\n",
       "      <td>142</td>\n",
       "      <td>2.739437</td>\n",
       "    </tr>\n",
       "    <tr>\n",
       "      <th>5</th>\n",
       "      <td>1140</td>\n",
       "      <td>3.919298</td>\n",
       "    </tr>\n",
       "    <tr>\n",
       "      <th>...</th>\n",
       "      <td>...</td>\n",
       "      <td>...</td>\n",
       "    </tr>\n",
       "    <tr>\n",
       "      <th>237</th>\n",
       "      <td>348</td>\n",
       "      <td>3.399425</td>\n",
       "    </tr>\n",
       "    <tr>\n",
       "      <th>238</th>\n",
       "      <td>2335</td>\n",
       "      <td>3.678373</td>\n",
       "    </tr>\n",
       "    <tr>\n",
       "      <th>239</th>\n",
       "      <td>2190</td>\n",
       "      <td>3.768037</td>\n",
       "    </tr>\n",
       "    <tr>\n",
       "      <th>240</th>\n",
       "      <td>5184</td>\n",
       "      <td>3.948495</td>\n",
       "    </tr>\n",
       "    <tr>\n",
       "      <th>241</th>\n",
       "      <td>29259</td>\n",
       "      <td>4.156328</td>\n",
       "    </tr>\n",
       "  </tbody>\n",
       "</table>\n",
       "<p>241 rows × 2 columns</p>\n",
       "</div>"
      ],
      "text/plain": [
       "          count      mean\n",
       "Movie_Id                 \n",
       "1           547  3.749543\n",
       "2           145  3.558621\n",
       "3          2012  3.641153\n",
       "4           142  2.739437\n",
       "5          1140  3.919298\n",
       "...         ...       ...\n",
       "237         348  3.399425\n",
       "238        2335  3.678373\n",
       "239        2190  3.768037\n",
       "240        5184  3.948495\n",
       "241       29259  4.156328\n",
       "\n",
       "[241 rows x 2 columns]"
      ]
     },
     "execution_count": 24,
     "metadata": {},
     "output_type": "execute_result"
    }
   ],
   "source": [
    "dataset.groupby('Movie_Id')['Rating'].agg(f)"
   ]
  },
  {
   "cell_type": "code",
   "execution_count": 25,
   "id": "44f4ada2",
   "metadata": {},
   "outputs": [
    {
     "name": "stdout",
     "output_type": "stream",
     "text": [
      "Movie minimum times of review: 2297.0\n"
     ]
    }
   ],
   "source": [
    "#To create a list of all the movies rated less often(only include top 30% rated movies)\n",
    "dataset_movie_summary = dataset.groupby('Movie_Id')['Rating'].agg(f)\n",
    "\n",
    "dataset_movie_summary.index = dataset_movie_summary.index.map(int)\n",
    "\n",
    "movie_benchmark = round(dataset_movie_summary['count'].quantile(0.75),2)\n",
    "\n",
    "drop_movie_list = dataset_movie_summary[dataset_movie_summary['count'] <= movie_benchmark].index\n",
    "\n",
    "print('Movie minimum times of review: {}'.format(movie_benchmark))"
   ]
  },
  {
   "cell_type": "code",
   "execution_count": 26,
   "id": "96b99f03",
   "metadata": {},
   "outputs": [
    {
     "name": "stdout",
     "output_type": "stream",
     "text": [
      "Customer minimum times of review: 5.0\n"
     ]
    }
   ],
   "source": [
    "#calculate the thershold value of each customer,\n",
    "dataset_cust_summary = dataset.groupby('Cust_Id')['Rating'].agg(f)#f= count(), mean()\n",
    "dataset_cust_summary.index = dataset_cust_summary.index.map(int)\n",
    "cust_benchmark = round(dataset_cust_summary['count'].quantile(0.75),0)\n",
    "drop_cust_list = dataset_cust_summary[dataset_cust_summary['count'] < cust_benchmark].index\n",
    "\n",
    "print(f'Customer minimum times of review: {cust_benchmark}')"
   ]
  },
  {
   "cell_type": "code",
   "execution_count": 27,
   "id": "d813c230",
   "metadata": {},
   "outputs": [
    {
     "name": "stdout",
     "output_type": "stream",
     "text": [
      "Original Shape: (1048574, 5)\n"
     ]
    }
   ],
   "source": [
    "print(f'Original Shape: {dataset.shape}')"
   ]
  },
  {
   "cell_type": "code",
   "execution_count": 28,
   "id": "dbc0b160",
   "metadata": {},
   "outputs": [
    {
     "data": {
      "text/plain": [
       "Int64Index([  1,   2,   3,   4,   5,   6,   7,   9,  10,  11,\n",
       "            ...\n",
       "            228, 229, 230, 231, 233, 234, 235, 236, 237, 239],\n",
       "           dtype='int64', name='Movie_Id', length=181)"
      ]
     },
     "execution_count": 28,
     "metadata": {},
     "output_type": "execute_result"
    }
   ],
   "source": [
    "drop_movie_list"
   ]
  },
  {
   "cell_type": "code",
   "execution_count": 29,
   "id": "3d2d0b4d",
   "metadata": {},
   "outputs": [
    {
     "data": {
      "text/plain": [
       "Int64Index([     10,      25,      33,      42,      59,      94,      97,\n",
       "                116,     131,     158,\n",
       "            ...\n",
       "            2649351, 2649370, 2649375, 2649376, 2649378, 2649388, 2649401,\n",
       "            2649404, 2649409, 2649429],\n",
       "           dtype='int64', name='Cust_Id', length=213138)"
      ]
     },
     "execution_count": 29,
     "metadata": {},
     "output_type": "execute_result"
    }
   ],
   "source": [
    "drop_cust_list"
   ]
  },
  {
   "cell_type": "code",
   "execution_count": 30,
   "id": "da3fab1e",
   "metadata": {},
   "outputs": [
    {
     "name": "stdout",
     "output_type": "stream",
     "text": [
      "Collecting scikit-surprise\n",
      "  Using cached scikit-surprise-1.1.3.tar.gz (771 kB)\n",
      "  Preparing metadata (setup.py): started\n",
      "  Preparing metadata (setup.py): finished with status 'done'\n",
      "Requirement already satisfied: joblib>=1.0.0 in c:\\users\\rajee\\anaconda3\\lib\\site-packages (from scikit-surprise) (1.2.0)\n",
      "Requirement already satisfied: numpy>=1.17.3 in c:\\users\\rajee\\anaconda3\\lib\\site-packages (from scikit-surprise) (1.21.5)\n",
      "Requirement already satisfied: scipy>=1.3.2 in c:\\users\\rajee\\anaconda3\\lib\\site-packages (from scikit-surprise) (1.9.1)\n",
      "Building wheels for collected packages: scikit-surprise\n",
      "  Building wheel for scikit-surprise (setup.py): started\n",
      "  Building wheel for scikit-surprise (setup.py): finished with status 'error'\n",
      "  Running setup.py clean for scikit-surprise\n",
      "Failed to build scikit-surprise\n",
      "Installing collected packages: scikit-surprise\n",
      "  Running setup.py install for scikit-surprise: started\n",
      "  Running setup.py install for scikit-surprise: finished with status 'error'\n"
     ]
    },
    {
     "name": "stderr",
     "output_type": "stream",
     "text": [
      "  error: subprocess-exited-with-error\n",
      "  \n",
      "  python setup.py bdist_wheel did not run successfully.\n",
      "  exit code: 1\n",
      "  \n",
      "  [76 lines of output]\n",
      "  running bdist_wheel\n",
      "  running build\n",
      "  running build_py\n",
      "  creating build\n",
      "  creating build\\lib.win-amd64-cpython-39\n",
      "  creating build\\lib.win-amd64-cpython-39\\surprise\n",
      "  copying surprise\\accuracy.py -> build\\lib.win-amd64-cpython-39\\surprise\n",
      "  copying surprise\\builtin_datasets.py -> build\\lib.win-amd64-cpython-39\\surprise\n",
      "  copying surprise\\dataset.py -> build\\lib.win-amd64-cpython-39\\surprise\n",
      "  copying surprise\\dump.py -> build\\lib.win-amd64-cpython-39\\surprise\n",
      "  copying surprise\\reader.py -> build\\lib.win-amd64-cpython-39\\surprise\n",
      "  copying surprise\\trainset.py -> build\\lib.win-amd64-cpython-39\\surprise\n",
      "  copying surprise\\utils.py -> build\\lib.win-amd64-cpython-39\\surprise\n",
      "  copying surprise\\__init__.py -> build\\lib.win-amd64-cpython-39\\surprise\n",
      "  copying surprise\\__main__.py -> build\\lib.win-amd64-cpython-39\\surprise\n",
      "  creating build\\lib.win-amd64-cpython-39\\surprise\\model_selection\n",
      "  copying surprise\\model_selection\\search.py -> build\\lib.win-amd64-cpython-39\\surprise\\model_selection\n",
      "  copying surprise\\model_selection\\split.py -> build\\lib.win-amd64-cpython-39\\surprise\\model_selection\n",
      "  copying surprise\\model_selection\\validation.py -> build\\lib.win-amd64-cpython-39\\surprise\\model_selection\n",
      "  copying surprise\\model_selection\\__init__.py -> build\\lib.win-amd64-cpython-39\\surprise\\model_selection\n",
      "  creating build\\lib.win-amd64-cpython-39\\surprise\\prediction_algorithms\n",
      "  copying surprise\\prediction_algorithms\\algo_base.py -> build\\lib.win-amd64-cpython-39\\surprise\\prediction_algorithms\n",
      "  copying surprise\\prediction_algorithms\\baseline_only.py -> build\\lib.win-amd64-cpython-39\\surprise\\prediction_algorithms\n",
      "  copying surprise\\prediction_algorithms\\knns.py -> build\\lib.win-amd64-cpython-39\\surprise\\prediction_algorithms\n",
      "  copying surprise\\prediction_algorithms\\predictions.py -> build\\lib.win-amd64-cpython-39\\surprise\\prediction_algorithms\n",
      "  copying surprise\\prediction_algorithms\\random_pred.py -> build\\lib.win-amd64-cpython-39\\surprise\\prediction_algorithms\n",
      "  copying surprise\\prediction_algorithms\\__init__.py -> build\\lib.win-amd64-cpython-39\\surprise\\prediction_algorithms\n",
      "  running egg_info\n",
      "  writing scikit_surprise.egg-info\\PKG-INFO\n",
      "  writing dependency_links to scikit_surprise.egg-info\\dependency_links.txt\n",
      "  writing entry points to scikit_surprise.egg-info\\entry_points.txt\n",
      "  writing requirements to scikit_surprise.egg-info\\requires.txt\n",
      "  writing top-level names to scikit_surprise.egg-info\\top_level.txt\n",
      "  reading manifest file 'scikit_surprise.egg-info\\SOURCES.txt'\n",
      "  reading manifest template 'MANIFEST.in'\n",
      "  adding license file 'LICENSE.md'\n",
      "  writing manifest file 'scikit_surprise.egg-info\\SOURCES.txt'\n",
      "  C:\\Users\\rajee\\anaconda3\\lib\\site-packages\\setuptools\\command\\build_py.py:153: SetuptoolsDeprecationWarning:     Installing 'surprise.prediction_algorithms' as data is deprecated, please list it in `packages`.\n",
      "      !!\n",
      "  \n",
      "  \n",
      "      ############################\n",
      "      # Package would be ignored #\n",
      "      ############################\n",
      "      Python recognizes 'surprise.prediction_algorithms' as an importable package,\n",
      "      but it is not listed in the `packages` configuration of setuptools.\n",
      "  \n",
      "      'surprise.prediction_algorithms' has been automatically added to the distribution only\n",
      "      because it may contain data files, but this behavior is likely to change\n",
      "      in future versions of setuptools (and therefore is considered deprecated).\n",
      "  \n",
      "      Please make sure that 'surprise.prediction_algorithms' is included as a package by using\n",
      "      the `packages` configuration field or the proper discovery methods\n",
      "      (for example by using `find_namespace_packages(...)`/`find_namespace:`\n",
      "      instead of `find_packages(...)`/`find:`).\n",
      "  \n",
      "      You can read more about \"package discovery\" and \"data files\" on setuptools\n",
      "      documentation page.\n",
      "  \n",
      "  \n",
      "  !!\n",
      "  \n",
      "    check.warn(importable)\n",
      "  copying surprise\\similarities.c -> build\\lib.win-amd64-cpython-39\\surprise\n",
      "  copying surprise\\similarities.pyx -> build\\lib.win-amd64-cpython-39\\surprise\n",
      "  copying surprise\\prediction_algorithms\\co_clustering.c -> build\\lib.win-amd64-cpython-39\\surprise\\prediction_algorithms\n",
      "  copying surprise\\prediction_algorithms\\matrix_factorization.c -> build\\lib.win-amd64-cpython-39\\surprise\\prediction_algorithms\n",
      "  copying surprise\\prediction_algorithms\\optimize_baselines.c -> build\\lib.win-amd64-cpython-39\\surprise\\prediction_algorithms\n",
      "  copying surprise\\prediction_algorithms\\slope_one.c -> build\\lib.win-amd64-cpython-39\\surprise\\prediction_algorithms\n",
      "  copying surprise\\prediction_algorithms\\co_clustering.pyx -> build\\lib.win-amd64-cpython-39\\surprise\\prediction_algorithms\n",
      "  copying surprise\\prediction_algorithms\\matrix_factorization.pyx -> build\\lib.win-amd64-cpython-39\\surprise\\prediction_algorithms\n",
      "  copying surprise\\prediction_algorithms\\optimize_baselines.pyx -> build\\lib.win-amd64-cpython-39\\surprise\\prediction_algorithms\n",
      "  copying surprise\\prediction_algorithms\\slope_one.pyx -> build\\lib.win-amd64-cpython-39\\surprise\\prediction_algorithms\n",
      "  running build_ext\n",
      "  building 'surprise.similarities' extension\n",
      "  error: Microsoft Visual C++ 14.0 or greater is required. Get it with \"Microsoft C++ Build Tools\": https://visualstudio.microsoft.com/visual-cpp-build-tools/\n",
      "  [end of output]\n",
      "  \n",
      "  note: This error originates from a subprocess, and is likely not a problem with pip.\n",
      "  ERROR: Failed building wheel for scikit-surprise\n",
      "  error: subprocess-exited-with-error\n",
      "  \n",
      "  Running setup.py install for scikit-surprise did not run successfully.\n",
      "  exit code: 1\n",
      "  \n",
      "  [78 lines of output]\n",
      "  running install\n",
      "  C:\\Users\\rajee\\anaconda3\\lib\\site-packages\\setuptools\\command\\install.py:34: SetuptoolsDeprecationWarning: setup.py install is deprecated. Use build and pip and other standards-based tools.\n",
      "    warnings.warn(\n",
      "  running build\n",
      "  running build_py\n",
      "  creating build\n",
      "  creating build\\lib.win-amd64-cpython-39\n",
      "  creating build\\lib.win-amd64-cpython-39\\surprise\n",
      "  copying surprise\\accuracy.py -> build\\lib.win-amd64-cpython-39\\surprise\n",
      "  copying surprise\\builtin_datasets.py -> build\\lib.win-amd64-cpython-39\\surprise\n",
      "  copying surprise\\dataset.py -> build\\lib.win-amd64-cpython-39\\surprise\n",
      "  copying surprise\\dump.py -> build\\lib.win-amd64-cpython-39\\surprise\n",
      "  copying surprise\\reader.py -> build\\lib.win-amd64-cpython-39\\surprise\n",
      "  copying surprise\\trainset.py -> build\\lib.win-amd64-cpython-39\\surprise\n",
      "  copying surprise\\utils.py -> build\\lib.win-amd64-cpython-39\\surprise\n",
      "  copying surprise\\__init__.py -> build\\lib.win-amd64-cpython-39\\surprise\n",
      "  copying surprise\\__main__.py -> build\\lib.win-amd64-cpython-39\\surprise\n",
      "  creating build\\lib.win-amd64-cpython-39\\surprise\\model_selection\n",
      "  copying surprise\\model_selection\\search.py -> build\\lib.win-amd64-cpython-39\\surprise\\model_selection\n",
      "  copying surprise\\model_selection\\split.py -> build\\lib.win-amd64-cpython-39\\surprise\\model_selection\n",
      "  copying surprise\\model_selection\\validation.py -> build\\lib.win-amd64-cpython-39\\surprise\\model_selection\n",
      "  copying surprise\\model_selection\\__init__.py -> build\\lib.win-amd64-cpython-39\\surprise\\model_selection\n",
      "  creating build\\lib.win-amd64-cpython-39\\surprise\\prediction_algorithms\n",
      "  copying surprise\\prediction_algorithms\\algo_base.py -> build\\lib.win-amd64-cpython-39\\surprise\\prediction_algorithms\n",
      "  copying surprise\\prediction_algorithms\\baseline_only.py -> build\\lib.win-amd64-cpython-39\\surprise\\prediction_algorithms\n",
      "  copying surprise\\prediction_algorithms\\knns.py -> build\\lib.win-amd64-cpython-39\\surprise\\prediction_algorithms\n",
      "  copying surprise\\prediction_algorithms\\predictions.py -> build\\lib.win-amd64-cpython-39\\surprise\\prediction_algorithms\n",
      "  copying surprise\\prediction_algorithms\\random_pred.py -> build\\lib.win-amd64-cpython-39\\surprise\\prediction_algorithms\n",
      "  copying surprise\\prediction_algorithms\\__init__.py -> build\\lib.win-amd64-cpython-39\\surprise\\prediction_algorithms\n",
      "  running egg_info\n",
      "  writing scikit_surprise.egg-info\\PKG-INFO\n",
      "  writing dependency_links to scikit_surprise.egg-info\\dependency_links.txt\n",
      "  writing entry points to scikit_surprise.egg-info\\entry_points.txt\n",
      "  writing requirements to scikit_surprise.egg-info\\requires.txt\n",
      "  writing top-level names to scikit_surprise.egg-info\\top_level.txt\n",
      "  reading manifest file 'scikit_surprise.egg-info\\SOURCES.txt'\n",
      "  reading manifest template 'MANIFEST.in'\n",
      "  adding license file 'LICENSE.md'\n",
      "  writing manifest file 'scikit_surprise.egg-info\\SOURCES.txt'\n",
      "  C:\\Users\\rajee\\anaconda3\\lib\\site-packages\\setuptools\\command\\build_py.py:153: SetuptoolsDeprecationWarning:     Installing 'surprise.prediction_algorithms' as data is deprecated, please list it in `packages`.\n",
      "      !!\n",
      "  \n",
      "  \n",
      "      ############################\n",
      "      # Package would be ignored #\n",
      "      ############################\n",
      "      Python recognizes 'surprise.prediction_algorithms' as an importable package,\n",
      "      but it is not listed in the `packages` configuration of setuptools.\n",
      "  \n",
      "      'surprise.prediction_algorithms' has been automatically added to the distribution only\n",
      "      because it may contain data files, but this behavior is likely to change\n",
      "      in future versions of setuptools (and therefore is considered deprecated).\n",
      "  \n",
      "      Please make sure that 'surprise.prediction_algorithms' is included as a package by using\n",
      "      the `packages` configuration field or the proper discovery methods\n",
      "      (for example by using `find_namespace_packages(...)`/`find_namespace:`\n",
      "      instead of `find_packages(...)`/`find:`).\n",
      "  \n",
      "      You can read more about \"package discovery\" and \"data files\" on setuptools\n",
      "      documentation page.\n",
      "  \n",
      "  \n",
      "  !!\n",
      "  \n",
      "    check.warn(importable)\n",
      "  copying surprise\\similarities.c -> build\\lib.win-amd64-cpython-39\\surprise\n",
      "  copying surprise\\similarities.pyx -> build\\lib.win-amd64-cpython-39\\surprise\n",
      "  copying surprise\\prediction_algorithms\\co_clustering.c -> build\\lib.win-amd64-cpython-39\\surprise\\prediction_algorithms\n",
      "  copying surprise\\prediction_algorithms\\matrix_factorization.c -> build\\lib.win-amd64-cpython-39\\surprise\\prediction_algorithms\n",
      "  copying surprise\\prediction_algorithms\\optimize_baselines.c -> build\\lib.win-amd64-cpython-39\\surprise\\prediction_algorithms\n",
      "  copying surprise\\prediction_algorithms\\slope_one.c -> build\\lib.win-amd64-cpython-39\\surprise\\prediction_algorithms\n",
      "  copying surprise\\prediction_algorithms\\co_clustering.pyx -> build\\lib.win-amd64-cpython-39\\surprise\\prediction_algorithms\n",
      "  copying surprise\\prediction_algorithms\\matrix_factorization.pyx -> build\\lib.win-amd64-cpython-39\\surprise\\prediction_algorithms\n",
      "  copying surprise\\prediction_algorithms\\optimize_baselines.pyx -> build\\lib.win-amd64-cpython-39\\surprise\\prediction_algorithms\n",
      "  copying surprise\\prediction_algorithms\\slope_one.pyx -> build\\lib.win-amd64-cpython-39\\surprise\\prediction_algorithms\n",
      "  running build_ext\n",
      "  building 'surprise.similarities' extension\n",
      "  error: Microsoft Visual C++ 14.0 or greater is required. Get it with \"Microsoft C++ Build Tools\": https://visualstudio.microsoft.com/visual-cpp-build-tools/\n",
      "  [end of output]\n",
      "  \n",
      "  note: This error originates from a subprocess, and is likely not a problem with pip.\n",
      "error: legacy-install-failure\n",
      "\n",
      "Encountered error while trying to install package.\n",
      "\n",
      "scikit-surprise\n",
      "\n",
      "note: This is an issue with the package mentioned above, not pip.\n",
      "hint: See above for output from the failure.\n"
     ]
    }
   ],
   "source": [
    "!pip install scikit-surprise"
   ]
  },
  {
   "cell_type": "code",
   "execution_count": 31,
   "id": "ed778e51",
   "metadata": {},
   "outputs": [
    {
     "name": "stdout",
     "output_type": "stream",
     "text": [
      "Collecting scikit-surprise\n",
      "  Using cached scikit-surprise-1.1.3.tar.gz (771 kB)\n",
      "  Preparing metadata (setup.py): started\n",
      "  Preparing metadata (setup.py): finished with status 'done'\n",
      "Collecting config\n",
      "  Using cached config-0.5.1.zip (90 kB)\n",
      "  Preparing metadata (setup.py): started\n",
      "  Preparing metadata (setup.py): finished with status 'done'\n"
     ]
    },
    {
     "name": "stderr",
     "output_type": "stream",
     "text": [
      "WARNING: Disabling all use of wheels due to the use of --build-option / --global-option / --install-option.\n",
      "ERROR: Could not find a version that satisfies the requirement false (from versions: none)\n",
      "ERROR: No matching distribution found for false\n"
     ]
    }
   ],
   "source": [
    "!pip install scikit-surprise config --global http.sslVerify false --"
   ]
  },
  {
   "cell_type": "code",
   "execution_count": 32,
   "id": "b82e6204",
   "metadata": {},
   "outputs": [
    {
     "ename": "ModuleNotFoundError",
     "evalue": "No module named 'surprise'",
     "output_type": "error",
     "traceback": [
      "\u001b[1;31m---------------------------------------------------------------------------\u001b[0m",
      "\u001b[1;31mModuleNotFoundError\u001b[0m                       Traceback (most recent call last)",
      "\u001b[1;32m~\\AppData\\Local\\Temp\\ipykernel_4504\\3625585636.py\u001b[0m in \u001b[0;36m<module>\u001b[1;34m\u001b[0m\n\u001b[1;32m----> 1\u001b[1;33m \u001b[1;32mimport\u001b[0m \u001b[0msurprise\u001b[0m\u001b[1;33m\u001b[0m\u001b[1;33m\u001b[0m\u001b[0m\n\u001b[0m\u001b[0;32m      2\u001b[0m \u001b[1;32mfrom\u001b[0m \u001b[0msurprise\u001b[0m \u001b[1;32mimport\u001b[0m \u001b[0mDataset\u001b[0m\u001b[1;33m,\u001b[0m \u001b[0mReader\u001b[0m\u001b[1;33m,\u001b[0m \u001b[0mKNNBasic\u001b[0m\u001b[1;33m\u001b[0m\u001b[1;33m\u001b[0m\u001b[0m\n",
      "\u001b[1;31mModuleNotFoundError\u001b[0m: No module named 'surprise'"
     ]
    }
   ],
   "source": [
    "import surprise\n",
    "from surprise import Dataset, Reader, KNNBasic"
   ]
  },
  {
   "cell_type": "code",
   "execution_count": null,
   "id": "f44fd9ed",
   "metadata": {},
   "outputs": [],
   "source": [
    "# Load the dataset (assuming 'dataset' is your original dataset)\n",
    "reader = Reader(rating_scale=(1, 5))\n",
    "data = Dataset.load_from_df(dataset[['Cust_Id', 'Movie_Id', 'Rating']], reader)"
   ]
  },
  {
   "cell_type": "code",
   "execution_count": null,
   "id": "c795de1f",
   "metadata": {},
   "outputs": [],
   "source": [
    "# Build the collaborative filtering model\n",
    "similarity_options = {'name': 'cosine', 'user_based': False}\n",
    "model = KNNBasic(sim_options=similarity_options)"
   ]
  },
  {
   "cell_type": "code",
   "execution_count": null,
   "id": "281b675e",
   "metadata": {},
   "outputs": [],
   "source": [
    "# Train the model on the dataset\n",
    "trainset = data.build_full_trainset()\n",
    "model.fit(trainset)"
   ]
  },
  {
   "cell_type": "code",
   "execution_count": null,
   "id": "43570f57",
   "metadata": {},
   "outputs": [],
   "source": [
    "# Function to get movie recommendations for a given user and genre\n",
    "def get_movie_recommendation(user_id, genre):\n",
    "    movies_in_genre = dataset[dataset['Genre'] == genre]['Movie_Id'].unique()\n",
    "    unrated_movies = [movie for movie in movies_in_genre if movie not in trainset.ur[user_id]]\n",
    "    \n",
    "    if len(unrated_movies) == 0:\n",
    "        return \"No movie recommendations available for the given user and genre.\"\n",
    "    \n",
    "    predictions = [model.predict(user_id, movie) for movie in unrated_movies]\n",
    "    sorted_predictions = sorted(predictions, key=lambda x: x.est, reverse=True)\n",
    "    top_movie = sorted_predictions[0]\n",
    "    \n",
    "    movie_name = dataset[dataset['Movie_Id'] == top_movie.iid]['MovieName'].values[0]\n",
    "    predicted_rating = top_movie.est\n",
    "    \n",
    "    return f\"Recommended movie in the {genre} genre for user {user_id}: {movie_name} (Predicted Rating: {predicted_rating})\""
   ]
  },
  {
   "cell_type": "code",
   "execution_count": null,
   "id": "7b6acd0a",
   "metadata": {},
   "outputs": [],
   "source": [
    "# Example usage:\n",
    "user_id = 1  # Specify the user ID for whom you want movie recommendations\n",
    "genres = dataset['Genre'].unique()  # Get the list of all unique genres in the dataset\n",
    "\n",
    "for genre in genres:\n",
    "    recommendation = get_movie_recommendation(user_id, genre)\n",
    "    print(recommendation)"
   ]
  },
  {
   "cell_type": "code",
   "execution_count": null,
   "id": "92c69aff",
   "metadata": {},
   "outputs": [],
   "source": []
  },
  {
   "cell_type": "code",
   "execution_count": null,
   "id": "b8b4579e",
   "metadata": {},
   "outputs": [],
   "source": []
  },
  {
   "cell_type": "markdown",
   "id": "7803c6f8",
   "metadata": {},
   "source": [
    "# 3. Find what Genre Movies have received the best and worst ratings based on User Rating."
   ]
  },
  {
   "cell_type": "code",
   "execution_count": 68,
   "id": "1b924f40",
   "metadata": {},
   "outputs": [],
   "source": [
    "# Calculate average ratings for each genre\n",
    "genre_ratings = dataset.groupby('Genre')['Rating'].mean().sort_values(ascending=False)"
   ]
  },
  {
   "cell_type": "code",
   "execution_count": 69,
   "id": "f0039970",
   "metadata": {},
   "outputs": [],
   "source": [
    "# Get the genre with the highest average rating\n",
    "best_genre = genre_ratings.idxmax()\n",
    "best_rating = genre_ratings.max()"
   ]
  },
  {
   "cell_type": "code",
   "execution_count": 70,
   "id": "37c7b48c",
   "metadata": {},
   "outputs": [],
   "source": [
    "# Get the genre with the lowest average rating\n",
    "worst_genre = genre_ratings.idxmin()\n",
    "worst_rating = genre_ratings.min"
   ]
  },
  {
   "cell_type": "code",
   "execution_count": 71,
   "id": "3fbdfb41",
   "metadata": {},
   "outputs": [
    {
     "name": "stdout",
     "output_type": "stream",
     "text": [
      "Genre with the best rating:\n",
      "Genre: Horror\n",
      "Average Rating: 4.123181222218669\n",
      "\n",
      "Genre with the worst rating:\n",
      "Genre: Romance\n",
      "Average Rating: <bound method NDFrame._add_numeric_operations.<locals>.min of Genre\n",
      "Horror         4.123181\n",
      "Educational    3.898523\n",
      "Historical     3.817948\n",
      "Action         3.749543\n",
      "Crime          3.728872\n",
      "Gang           3.680611\n",
      "Animation      3.581107\n",
      "Comedy         3.558621\n",
      "Other          3.551541\n",
      "Drama          3.496365\n",
      "Sci-Fi         3.477920\n",
      "Fan            3.465356\n",
      "Biography      3.463439\n",
      "Mystery        3.390731\n",
      "RomCom         3.383633\n",
      "Documentary    3.311661\n",
      "War            3.288243\n",
      "Fiction        3.084396\n",
      "Thriller       3.073112\n",
      "Romance        2.739437\n",
      "Name: Rating, dtype: float64>\n"
     ]
    }
   ],
   "source": [
    "print(\"Genre with the best rating:\")\n",
    "print(\"Genre:\", best_genre)\n",
    "print(\"Average Rating:\", best_rating)\n",
    "print(\"\\nGenre with the worst rating:\")\n",
    "print(\"Genre:\", worst_genre)\n",
    "print(\"Average Rating:\", worst_rating)"
   ]
  },
  {
   "cell_type": "markdown",
   "id": "619412ee",
   "metadata": {},
   "source": [
    "# Conclusion:\n",
    "The genre with the best average rating is Horror, with an average rating of 4.123. On the other hand, the genre with the worst average rating is Romance, with an average rating of 2.739.\n",
    "\n",
    "An important conclusion we can draw from this data is that Horror movies tend to receive higher ratings compared to Romance movies. This suggests that the audience generally enjoys and appreciates Horror movies more, while Romance movies may have some aspects that are not as well-received.\n",
    "\n",
    "However, it's important to note that these conclusions are based on the given data and may not necessarily reflect the overall preferences of all movie viewers. Other factors such as sample size, specific movies within each genre, and individual preferences can also influence ratings. Therefore, it's recommended to consider these conclusions within the context of the specific dataset and audience."
   ]
  },
  {
   "cell_type": "code",
   "execution_count": 77,
   "id": "018965d4",
   "metadata": {},
   "outputs": [
    {
     "data": {
      "text/plain": [
       "Text(0.5, 1.0, 'Average Rating by Genre')"
      ]
     },
     "execution_count": 77,
     "metadata": {},
     "output_type": "execute_result"
    },
    {
     "data": {
      "image/png": "[encoded data removed]",
      "text/plain": [
       "<Figure size 1000x600 with 1 Axes>"
      ]
     },
     "metadata": {},
     "output_type": "display_data"
    }
   ],
   "source": [
    "# Create a bar chart\n",
    "fig, ax = plt.subplots(figsize=(10, 6))\n",
    "genre_ratings.plot(kind='bar', ax=ax)\n",
    "# Set labels and title\n",
    "ax.set_xlabel('Genre')\n",
    "ax.set_ylabel('Average Rating')\n",
    "ax.set_title('Average Rating by Genre')\n",
    "# # Add annotations for best and worst genres\n",
    "# ax.annotate(f\"Best Genre: {best_genre}\\nRating: {best_rating:.2f}\", xy=(best_genre, best_rating),\n",
    "#             xytext=(0, 5), textcoords='offset points', ha='center')\n",
    "# ax.annotate(f\"Worst Genre: {worst_genre}\\nRating: {worst_rating:.2f}\", xy=(worst_genre, worst_rating),\n",
    "#             xytext=(0, -20), textcoords='offset points', ha='center')"
   ]
  },
  {
   "cell_type": "code",
   "execution_count": 80,
   "id": "316ab672",
   "metadata": {},
   "outputs": [
    {
     "data": {
      "image/png": "[encoded data removed]",
      "text/plain": [
       "<Figure size 1000x600 with 1 Axes>"
      ]
     },
     "metadata": {},
     "output_type": "display_data"
    }
   ],
   "source": [
    "# Count the frequency of each genre\n",
    "genre_counts = dataset['Genre'].value_counts()\n",
    "\n",
    "# Create a bar plot\n",
    "plt.figure(figsize=(10, 6))\n",
    "sns.barplot(x=genre_counts.index, y=genre_counts.values)\n",
    "plt.xticks(rotation=45)\n",
    "plt.xlabel('Genre')\n",
    "plt.ylabel('Count')\n",
    "plt.title('Distribution of Movie Genres')\n",
    "plt.tight_layout()\n",
    "plt.show()"
   ]
  },
  {
   "cell_type": "code",
   "execution_count": null,
   "id": "abc9db66",
   "metadata": {},
   "outputs": [],
   "source": []
  }
 ],
 "metadata": {
  "kernelspec": {
   "display_name": "Python 3 (ipykernel)",
   "language": "python",
   "name": "python3"
  },
  "language_info": {
   "codemirror_mode": {
    "name": "ipython",
    "version": 3
   },
   "file_extension": ".py",
   "mimetype": "text/x-python",
   "name": "python",
   "nbconvert_exporter": "python",
   "pygments_lexer": "ipython3",
   "version": "3.9.13"
  }
 },
 "nbformat": 4,
 "nbformat_minor": 5
}
